{
 "cells": [
  {
   "cell_type": "markdown",
   "metadata": {},
   "source": [
    "# Model Validation\n",
    "\n",
    "Random train test split may not always ensure consistent model performance. To further validate the approach, we split the data into 5 mutually exclusive sets, train on the 4 sets and predict on the 5th one. This is repeated 5 times, with 5 combinations of the train and test sets. This helps to get a better clarity about the model."
   ]
  },
  {
   "cell_type": "code",
   "execution_count": 1,
   "metadata": {
    "_cell_guid": "b1076dfc-b9ad-4769-8c92-a6c4dae69d19",
    "_uuid": "8f2839f25d086af736a60e9eeb907d3b93b6e0e5",
    "execution": {
     "iopub.execute_input": "2021-07-01T17:03:54.125372Z",
     "iopub.status.busy": "2021-07-01T17:03:54.124979Z",
     "iopub.status.idle": "2021-07-01T17:03:54.130227Z",
     "shell.execute_reply": "2021-07-01T17:03:54.129429Z",
     "shell.execute_reply.started": "2021-07-01T17:03:54.125342Z"
    }
   },
   "outputs": [],
   "source": [
    "import pandas as pd\n",
    "from sklearn.model_selection import train_test_split\n",
    "from sklearn.feature_extraction.text import CountVectorizer\n",
    "from sklearn.ensemble import RandomForestClassifier\n",
    "from sklearn.metrics import classification_report\n",
    "from sklearn.model_selection import KFold"
   ]
  },
  {
   "cell_type": "code",
   "execution_count": 2,
   "metadata": {
    "execution": {
     "iopub.execute_input": "2021-07-01T17:05:13.023771Z",
     "iopub.status.busy": "2021-07-01T17:05:13.023240Z",
     "iopub.status.idle": "2021-07-01T17:05:13.318621Z",
     "shell.execute_reply": "2021-07-01T17:05:13.317847Z",
     "shell.execute_reply.started": "2021-07-01T17:05:13.023724Z"
    }
   },
   "outputs": [],
   "source": [
    "df = pd.read_csv('data/dataset.csv')\n",
    "df = df.drop_duplicates(subset='Text')\n",
    "df = df.reset_index(drop=True)"
   ]
  },
  {
   "cell_type": "code",
   "execution_count": 3,
   "metadata": {
    "execution": {
     "iopub.execute_input": "2021-07-01T17:18:46.672191Z",
     "iopub.status.busy": "2021-07-01T17:18:46.671840Z",
     "iopub.status.idle": "2021-07-01T17:18:46.676926Z",
     "shell.execute_reply": "2021-07-01T17:18:46.675720Z",
     "shell.execute_reply.started": "2021-07-01T17:18:46.672163Z"
    }
   },
   "outputs": [],
   "source": [
    "documents = df['Text'].values\n",
    "labels = df['language'].values"
   ]
  },
  {
   "cell_type": "code",
   "execution_count": 4,
   "metadata": {
    "execution": {
     "iopub.execute_input": "2021-07-01T17:04:24.599230Z",
     "iopub.status.busy": "2021-07-01T17:04:24.598664Z",
     "iopub.status.idle": "2021-07-01T17:04:24.603009Z",
     "shell.execute_reply": "2021-07-01T17:04:24.602307Z",
     "shell.execute_reply.started": "2021-07-01T17:04:24.599170Z"
    }
   },
   "outputs": [],
   "source": [
    "kfold = KFold(5, shuffle=True, random_state=1)"
   ]
  },
  {
   "cell_type": "code",
   "execution_count": 5,
   "metadata": {
    "execution": {
     "iopub.execute_input": "2021-07-01T17:24:11.859729Z",
     "iopub.status.busy": "2021-07-01T17:24:11.859348Z",
     "iopub.status.idle": "2021-07-01T18:02:41.914158Z",
     "shell.execute_reply": "2021-07-01T18:02:41.913082Z",
     "shell.execute_reply.started": "2021-07-01T17:24:11.859698Z"
    }
   },
   "outputs": [
    {
     "name": "stdout",
     "output_type": "stream",
     "text": [
      "The model performance on fold 1:\n",
      "\n",
      "              precision    recall  f1-score   support\n",
      "\n",
      "      Arabic       0.99      1.00      0.99       188\n",
      "     Chinese       0.99      0.99      0.99       201\n",
      "       Dutch       0.99      1.00      1.00       193\n",
      "     English       0.83      1.00      0.90       210\n",
      "    Estonian       0.97      0.97      0.97       191\n",
      "      French       0.97      0.99      0.98       225\n",
      "       Hindi       1.00      0.98      0.99       174\n",
      "  Indonesian       1.00      0.99      1.00       199\n",
      "    Japanese       1.00      0.98      0.99       198\n",
      "      Korean       1.00      0.99      0.99       197\n",
      "       Latin       0.97      0.92      0.95       210\n",
      "     Persian       1.00      1.00      1.00       193\n",
      "   Portugese       0.99      0.97      0.98       191\n",
      "      Pushto       1.00      0.96      0.98       227\n",
      "    Romanian       1.00      1.00      1.00       157\n",
      "     Russian       0.98      0.99      0.99       193\n",
      "     Spanish       0.99      0.98      0.98       201\n",
      "     Swedish       0.99      0.99      0.99       191\n",
      "       Tamil       1.00      0.99      1.00       194\n",
      "        Thai       1.00      0.99      0.99       217\n",
      "     Turkish       1.00      0.99      1.00       221\n",
      "        Urdu       1.00      0.98      0.99       201\n",
      "\n",
      "    accuracy                           0.98      4372\n",
      "   macro avg       0.99      0.98      0.98      4372\n",
      "weighted avg       0.99      0.98      0.98      4372\n",
      "\n",
      "The model performance on fold 2:\n",
      "\n",
      "              precision    recall  f1-score   support\n",
      "\n",
      "      Arabic       1.00      1.00      1.00       185\n",
      "     Chinese       1.00      0.99      0.99       195\n",
      "       Dutch       0.99      0.99      0.99       187\n",
      "     English       0.84      0.99      0.91       202\n",
      "    Estonian       1.00      0.97      0.99       217\n",
      "      French       0.98      1.00      0.99       194\n",
      "       Hindi       1.00      1.00      1.00       210\n",
      "  Indonesian       1.00      0.98      0.99       192\n",
      "    Japanese       1.00      0.99      0.99       222\n",
      "      Korean       1.00      1.00      1.00       192\n",
      "       Latin       0.95      0.96      0.95       174\n",
      "     Persian       1.00      1.00      1.00       219\n",
      "   Portugese       0.99      0.96      0.97       176\n",
      "      Pushto       1.00      0.97      0.98       184\n",
      "    Romanian       1.00      0.99      0.99       215\n",
      "     Russian       0.98      1.00      0.99       224\n",
      "     Spanish       1.00      0.97      0.99       208\n",
      "     Swedish       1.00      1.00      1.00       188\n",
      "       Tamil       1.00      0.99      1.00       181\n",
      "        Thai       1.00      0.99      1.00       192\n",
      "     Turkish       1.00      0.99      0.99       203\n",
      "        Urdu       1.00      0.99      0.99       212\n",
      "\n",
      "    accuracy                           0.99      4372\n",
      "   macro avg       0.99      0.99      0.99      4372\n",
      "weighted avg       0.99      0.99      0.99      4372\n",
      "\n",
      "The model performance on fold 3:\n",
      "\n",
      "              precision    recall  f1-score   support\n",
      "\n",
      "      Arabic       1.00      0.99      1.00       191\n",
      "     Chinese       0.98      0.99      0.99       233\n",
      "       Dutch       0.98      0.97      0.98       186\n",
      "     English       0.82      1.00      0.90       212\n",
      "    Estonian       0.98      0.97      0.98       194\n",
      "      French       0.97      0.99      0.98       197\n",
      "       Hindi       1.00      0.98      0.99       191\n",
      "  Indonesian       1.00      0.98      0.99       182\n",
      "    Japanese       1.00      0.99      1.00       214\n",
      "      Korean       1.00      0.98      0.99       191\n",
      "       Latin       0.94      0.92      0.93       210\n",
      "     Persian       1.00      0.99      0.99       216\n",
      "   Portugese       0.98      0.99      0.99       209\n",
      "      Pushto       1.00      0.95      0.98       197\n",
      "    Romanian       1.00      0.99      0.99       199\n",
      "     Russian       1.00      1.00      1.00       191\n",
      "     Spanish       1.00      0.97      0.98       195\n",
      "     Swedish       1.00      1.00      1.00       198\n",
      "       Tamil       1.00      0.98      0.99       184\n",
      "        Thai       1.00      0.98      0.99       193\n",
      "     Turkish       1.00      0.98      0.99       195\n",
      "        Urdu       1.00      0.99      1.00       194\n",
      "\n",
      "    accuracy                           0.98      4372\n",
      "   macro avg       0.98      0.98      0.98      4372\n",
      "weighted avg       0.98      0.98      0.98      4372\n",
      "\n",
      "The model performance on fold 4:\n",
      "\n",
      "              precision    recall  f1-score   support\n",
      "\n",
      "      Arabic       1.00      1.00      1.00       217\n",
      "     Chinese       0.98      0.99      0.99       207\n",
      "       Dutch       1.00      0.99      1.00       219\n",
      "     English       0.80      1.00      0.89       182\n",
      "    Estonian       0.99      0.97      0.98       195\n",
      "      French       0.98      0.99      0.99       180\n",
      "       Hindi       1.00      0.97      0.98       206\n",
      "  Indonesian       1.00      0.99      0.99       208\n",
      "    Japanese       1.00      0.99      1.00       183\n",
      "      Korean       1.00      0.98      0.99       228\n",
      "       Latin       0.98      0.97      0.98       181\n",
      "     Persian       1.00      1.00      1.00       195\n",
      "   Portugese       1.00      0.96      0.98       195\n",
      "      Pushto       1.00      0.95      0.98       188\n",
      "    Romanian       1.00      1.00      1.00       210\n",
      "     Russian       1.00      0.99      0.99       206\n",
      "     Spanish       0.99      0.99      0.99       188\n",
      "     Swedish       1.00      0.99      1.00       200\n",
      "       Tamil       1.00      0.99      1.00       227\n",
      "        Thai       1.00      0.98      0.99       192\n",
      "     Turkish       1.00      0.99      0.99       170\n",
      "        Urdu       1.00      1.00      1.00       195\n",
      "\n",
      "    accuracy                           0.99      4372\n",
      "   macro avg       0.99      0.99      0.99      4372\n",
      "weighted avg       0.99      0.99      0.99      4372\n",
      "\n",
      "The model performance on fold 5:\n",
      "\n",
      "              precision    recall  f1-score   support\n",
      "\n",
      "      Arabic       1.00      1.00      1.00       217\n",
      "     Chinese       1.00      0.99      1.00       164\n",
      "       Dutch       1.00      0.99      0.99       211\n",
      "     English       0.78      0.99      0.87       194\n",
      "    Estonian       0.99      0.97      0.98       202\n",
      "      French       0.97      0.99      0.98       194\n",
      "       Hindi       1.00      0.99      0.99       209\n",
      "  Indonesian       0.99      0.96      0.98       194\n",
      "    Japanese       1.00      0.99      1.00       183\n",
      "      Korean       1.00      1.00      1.00       192\n",
      "       Latin       0.95      0.94      0.94       178\n",
      "     Persian       1.00      1.00      1.00       177\n",
      "   Portugese       0.99      0.97      0.98       226\n",
      "      Pushto       1.00      0.95      0.97       197\n",
      "    Romanian       1.00      0.96      0.98       219\n",
      "     Russian       0.99      0.99      0.99       185\n",
      "     Spanish       0.99      0.98      0.99       204\n",
      "     Swedish       1.00      1.00      1.00       215\n",
      "       Tamil       1.00      0.98      0.99       195\n",
      "        Thai       1.00      1.00      1.00       206\n",
      "     Turkish       1.00      0.99      1.00       211\n",
      "        Urdu       0.99      0.99      0.99       198\n",
      "\n",
      "    accuracy                           0.98      4371\n",
      "   macro avg       0.98      0.98      0.98      4371\n",
      "weighted avg       0.99      0.98      0.98      4371\n",
      "\n"
     ]
    }
   ],
   "source": [
    "i =1\n",
    "for train, test in kfold.split(documents,labels):\n",
    "    \n",
    "    train_doc,test_doc,train_labels,test_labels = documents[train], documents[test],labels[train],labels[test]\n",
    "    vectorizer = CountVectorizer(ngram_range=(1,4),analyzer='char',max_features=25000)\n",
    "    vector = vectorizer.fit_transform(train_doc)\n",
    "    train_df= pd.DataFrame(vector.toarray())\n",
    "    clf=RandomForestClassifier(n_estimators=1000)\n",
    "    clf.fit(train_df.values,train_labels)\n",
    "    vector_test = vectorizer.transform(test_doc)\n",
    "    test_df = pd.DataFrame(vector_test.toarray())\n",
    "    y_pred = clf.predict(test_df.values)\n",
    "    print(\"The model performance on fold \"+str(i)+\":\\n\")\n",
    "    print(classification_report(test_labels,y_pred))\n",
    "    i+=1\n",
    "    del y_pred, test_df,vector_test,train_df,vector"
   ]
  }
 ],
 "metadata": {
  "kernelspec": {
   "display_name": "Python 3 (ipykernel)",
   "language": "python",
   "name": "python3"
  },
  "language_info": {
   "codemirror_mode": {
    "name": "ipython",
    "version": 3
   },
   "file_extension": ".py",
   "mimetype": "text/x-python",
   "name": "python",
   "nbconvert_exporter": "python",
   "pygments_lexer": "ipython3",
   "version": "3.8.1"
  }
 },
 "nbformat": 4,
 "nbformat_minor": 4
}
